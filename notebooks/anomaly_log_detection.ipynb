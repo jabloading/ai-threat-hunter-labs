{
  "nbformat": 4,
  "nbformat_minor": 0,
  "metadata": {
    "colab": {
      "provenance": [],
      "authorship_tag": "ABX9TyPhgm4ITBIwQ01muKzjV9vV",
      "include_colab_link": true
    },
    "kernelspec": {
      "name": "python3",
      "display_name": "Python 3"
    },
    "language_info": {
      "name": "python"
    }
  },
  "cells": [
    {
      "cell_type": "markdown",
      "metadata": {
        "id": "view-in-github",
        "colab_type": "text"
      },
      "source": [
        "<a href=\"https://colab.research.google.com/github/jabloading/ai-threat-hunter-labs/blob/main/notebooks/anomaly_log_detection.ipynb\" target=\"_parent\"><img src=\"https://colab.research.google.com/assets/colab-badge.svg\" alt=\"Open In Colab\"/></a>"
      ]
    },
    {
      "cell_type": "code",
      "execution_count": null,
      "metadata": {
        "id": "tqLlzUn7ICdJ"
      },
      "outputs": [],
      "source": []
    },
    {
      "cell_type": "markdown",
      "source": [
        "# Anomaly Log Detection"
      ],
      "metadata": {
        "id": "6XycJ81sIUA5"
      }
    },
    {
      "cell_type": "code",
      "source": [
        "from sklearn.feature_extraction.text import CountVectorizer\n",
        "from sklearn.naive_bayes import MultinomialNB\n",
        "\n",
        "# example log lines\n",
        "logs = [\n",
        "    \"User login successful\",\n",
        "    \"Failed password attempt\",\n",
        "    \"Unauthorized access detected\",\n",
        "    \"System normal\",\n",
        "    \"Error writing to disk\"\n",
        "]\n",
        "\n",
        "# 0 = normal, 1 = suspicious\n",
        "labels = [0, 1, 1, 0, 1]\n",
        "\n",
        "# convert text to numeric features\n",
        "vectorizer = CountVectorizer()\n",
        "X = vectorizer.fit_transform(logs)\n",
        "\n",
        "# train a basic model\n",
        "model = MultinomialNB()\n",
        "model.fit(X, labels)\n",
        "\n",
        "# test with new log lines\n",
        "new_logs = [\"User login successful\", \"Unauthorized root login\"]\n",
        "new_X = vectorizer.transform(new_logs)\n",
        "\n",
        "# predictions: 0 = normal, 1 = suspicious\n",
        "print(model.predict(new_X))\n"
      ],
      "metadata": {
        "id": "7ocXLffZIYUQ"
      },
      "execution_count": null,
      "outputs": []
    }
  ]
}